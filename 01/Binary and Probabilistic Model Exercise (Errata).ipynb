{
 "cells": [
  {
   "cell_type": "markdown",
   "metadata": {},
   "source": [
    "# Introduction\n",
    "In this assignment, we are implementing the Neuron’s Binary and Probabilistic Model. The model implements the idea that a neuron receive inputs and determine the output from that input data. The Binary and Probabilistic Model means that the output is binary (either 0 or 1) and it will be determined by probabilistic value. So, for the same input, it may produce different output.\n",
    "\n",
    "The process of this model is first we calculate neuron’s voltage from each input and its corresponding connection weight by\n",
    "\n",
    "$$S = \\displaystyle\\sum_{i=1}^{N}W_n X_n\\ \\textrm{where}\\ X\\ \\textrm{is the inputs and}\\ W\\ \\textrm{is the connection weights} $$\n",
    "\n",
    "Then, we calculate the probabilistic value using the voltage by\n",
    "\n",
    "$$p = Sigmoid(S-\\Theta)\\ \\textrm{where}\\ \\Theta\\ \\textrm{is neuron’s threshold}$$\n",
    "\n",
    "The Sigmoid function is\n",
    "\n",
    "$$Sigmoid(x) = \\frac{1}{1+e^{-\\alpha x}}$$\n",
    "\n",
    "From the probabilistic value, we determine the output by\n",
    "\n",
    "$$ y =\n",
    "  \\begin{cases}\n",
    "    1 & \\quad \\text{with } \\text{ probability}\\ p\\\\\n",
    "    0 & \\quad \\text{with } \\text{ probability}\\ 1-p\n",
    "  \\end{cases}\n",
    "$$\n",
    "\n",
    "We repeat the process some amount of times to collect the outputs data for observation. For the propose of simplicity, in this implementation we use fix-seeded random generated number in the output calculation."
   ]
  },
  {
   "cell_type": "markdown",
   "metadata": {},
   "source": [
    "# Assumption\n",
    "We assume the following informations:\n",
    "* input datasets (x) are {1, -1, 2, 1, -2, 3} and {0, 1, 3, -2, 1, -2}\n",
    "* connection weights (w) are {-2.0, 2.0, -1.0, 3.0, 1.0, 2.0}\n",
    "* gain (α) is 2.0\n",
    "* threshold (Θ) is -1.0\n",
    "* number of inputs (N) is 6\n",
    "* The random function used in the implementation is seeded with 0 (if applicable)"
   ]
  },
  {
   "cell_type": "markdown",
   "metadata": {},
   "source": [
    "Please define dataset x"
   ]
  },
  {
   "cell_type": "code",
   "execution_count": null,
   "metadata": {},
   "outputs": [],
   "source": []
  },
  {
   "cell_type": "markdown",
   "metadata": {},
   "source": [
    "Please define weight w"
   ]
  },
  {
   "cell_type": "code",
   "execution_count": null,
   "metadata": {},
   "outputs": [],
   "source": []
  },
  {
   "cell_type": "markdown",
   "metadata": {},
   "source": [
    "Please define a function to calculate voltage S\n",
    "$$S = \\displaystyle\\sum_{i=1}^{N}W_n X_n\\ \\textrm{where}\\ X\\ \\textrm{is the inputs and}\\ W\\ \\textrm{is the connection weights} $$"
   ]
  },
  {
   "cell_type": "code",
   "execution_count": null,
   "metadata": {},
   "outputs": [],
   "source": []
  },
  {
   "cell_type": "markdown",
   "metadata": {},
   "source": [
    "Please define the activation function\n",
    "\n",
    "$$p = Sigmoid(S-\\Theta)\\ \\textrm{where}\\ \\Theta\\ \\textrm{is neuron’s threshold}$$"
   ]
  },
  {
   "cell_type": "code",
   "execution_count": null,
   "metadata": {},
   "outputs": [],
   "source": []
  },
  {
   "cell_type": "markdown",
   "metadata": {},
   "source": [
    "Please define a step function to determine probabilistic value\n",
    "\n",
    "$$ y =\n",
    "  \\begin{cases}\n",
    "    1 & \\quad \\text{with } \\text{ probability}\\ p\\\\\n",
    "    0 & \\quad \\text{with } \\text{ probability}\\ 1-p\n",
    "  \\end{cases}\n",
    "$$"
   ]
  },
  {
   "cell_type": "code",
   "execution_count": null,
   "metadata": {},
   "outputs": [],
   "source": []
  },
  {
   "cell_type": "markdown",
   "metadata": {},
   "source": [
    "Please run the process for several iteration for each input and observe the results"
   ]
  },
  {
   "cell_type": "code",
   "execution_count": null,
   "metadata": {},
   "outputs": [],
   "source": []
  }
 ],
 "metadata": {
  "kernelspec": {
   "display_name": "Python 3",
   "language": "python",
   "name": "python3"
  },
  "language_info": {
   "codemirror_mode": {
    "name": "ipython",
    "version": 3
   },
   "file_extension": ".py",
   "mimetype": "text/x-python",
   "name": "python",
   "nbconvert_exporter": "python",
   "pygments_lexer": "ipython3",
   "version": "3.6.4"
  }
 },
 "nbformat": 4,
 "nbformat_minor": 2
}
